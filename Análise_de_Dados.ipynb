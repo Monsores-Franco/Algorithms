{
  "cells": [
    {
      "cell_type": "markdown",
      "metadata": {
        "id": "view-in-github",
        "colab_type": "text"
      },
      "source": [
        "<a href=\"https://colab.research.google.com/github/Monsores-Franco/Algorithms/blob/main/An%C3%A1lise_de_Dados.ipynb\" target=\"_parent\"><img src=\"https://colab.research.google.com/assets/colab-badge.svg\" alt=\"Open In Colab\"/></a>"
      ]
    },
    {
      "cell_type": "code",
      "execution_count": 7,
      "metadata": {
        "id": "zwFnJsE6vjf8",
        "colab": {
          "base_uri": "https://localhost:8080/",
          "height": 1000
        },
        "outputId": "bbae72c5-b0f5-45f0-8c79-5bb9b98c271d"
      },
      "outputs": [
        {
          "output_type": "stream",
          "name": "stdout",
          "text": [
            "   Rank CCA3 Country/Territory           Capital Continent  2022 Population  \\\n",
            "0    36  AFG       Afghanistan             Kabul      Asia         41128771   \n",
            "1   138  ALB           Albania            Tirana    Europe          2842321   \n",
            "2    34  DZA           Algeria           Algiers    Africa         44903225   \n",
            "3   213  ASM    American Samoa         Pago Pago   Oceania            44273   \n",
            "4   203  AND           Andorra  Andorra la Vella    Europe            79824   \n",
            "\n",
            "   2020 Population  2015 Population  2010 Population  2000 Population  \\\n",
            "0         38972230         33753499         28189672         19542982   \n",
            "1          2866849          2882481          2913399          3182021   \n",
            "2         43451666         39543154         35856344         30774621   \n",
            "3            46189            51368            54849            58230   \n",
            "4            77700            71746            71519            66097   \n",
            "\n",
            "   1990 Population  1980 Population  1970 Population  Area (km²)  \\\n",
            "0         10694796         12486631         10752971      652230   \n",
            "1          3295066          2941651          2324731       28748   \n",
            "2         25518074         18739378         13795915     2381741   \n",
            "3            47818            32886            27075         199   \n",
            "4            53569            35611            19860         468   \n",
            "\n",
            "   Density (per km²)  Growth Rate  World Population Percentage  \n",
            "0            63.0587       1.0257                         0.52  \n",
            "1            98.8702       0.9957                         0.04  \n",
            "2            18.8531       1.0164                         0.56  \n",
            "3           222.4774       0.9831                         0.00  \n",
            "4           170.5641       1.0100                         0.00  \n"
          ]
        },
        {
          "output_type": "display_data",
          "data": {
            "text/plain": [
              "<IPython.core.display.Javascript object>"
            ],
            "application/javascript": [
              "(async (port, path, width, height, cache, element) => {\n",
              "    if (!google.colab.kernel.accessAllowed && !cache) {\n",
              "      return;\n",
              "    }\n",
              "    element.appendChild(document.createTextNode(''));\n",
              "    const url = await google.colab.kernel.proxyPort(port, {cache});\n",
              "    const iframe = document.createElement('iframe');\n",
              "    iframe.src = new URL(path, url).toString();\n",
              "    iframe.height = height;\n",
              "    iframe.width = width;\n",
              "    iframe.style.border = 0;\n",
              "    iframe.allow = [\n",
              "        'accelerometer',\n",
              "        'autoplay',\n",
              "        'camera',\n",
              "        'clipboard-read',\n",
              "        'clipboard-write',\n",
              "        'gyroscope',\n",
              "        'magnetometer',\n",
              "        'microphone',\n",
              "        'serial',\n",
              "        'usb',\n",
              "        'xr-spatial-tracking',\n",
              "    ].join('; ');\n",
              "    element.appendChild(iframe);\n",
              "  })(8050, \"/\", \"100%\", 650, false, window.element)"
            ]
          },
          "metadata": {}
        }
      ],
      "source": [
        "import pandas as pd\n",
        "from dash import Dash,html,dcc,Input,Output,callback\n",
        "import plotly.express as px\n",
        "\n",
        "df_population = pd.read_csv('world_population.csv')\n",
        "\n",
        "print(df_population.head())\n",
        "conts = list(df_population['Continent'].unique())\n",
        "\n",
        "\n",
        "Asia_Area = df_population[df_population['Continent'] == 'Asia']['Area (km²)'].sum()\n",
        "Europe_Area = df_population[df_population['Continent'] == 'Europe']['Area (km²)'].sum()\n",
        "Africa_Area = df_population[df_population['Continent'] == 'Africa']['Area (km²)'].sum()\n",
        "Oceania_Area = df_population[df_population['Continent'] == 'Oceania']['Area (km²)'].sum()\n",
        "North_America_Area = df_population[df_population['Continent'] == 'North America']['Area (km²)'].sum()\n",
        "South_America_Area = df_population[df_population['Continent'] == 'South America']['Area (km²)'].sum()\n",
        "\n",
        "Asia_Dentisty = df_population[df_population['Continent'] == 'Asia']['Density (per km²)'].sum()\n",
        "Europe_Dentisty = df_population[df_population['Continent'] == 'Europe']['Density (per km²)'].sum()\n",
        "Africa_Dentisty = df_population[df_population['Continent'] == 'Africa']['Density (per km²)'].sum()\n",
        "Oceania_Dentisty = df_population[df_population['Continent'] == 'Oceania']['Density (per km²)'].sum()\n",
        "North_America_Dentisty = df_population[df_population['Continent'] == 'North America']['Density (per km²)'].sum()\n",
        "South_America_Dentisty = df_population[df_population['Continent'] == 'South America']['Density (per km²)'].sum()\n",
        "\n",
        "conts_2 = list(df_population['Continent'].unique())\n",
        "conts_2.append('All Contries')\n",
        "\n",
        "sumary_dict = {\n",
        "    'Continent':conts,\n",
        "    'Area':[Asia_Area,Europe_Area,Africa_Area,Oceania_Area,North_America_Area,South_America_Area],\n",
        "    'Density (per km²)':[Asia_Dentisty,Europe_Dentisty,Africa_Dentisty,Oceania_Dentisty,North_America_Dentisty,South_America_Dentisty]\n",
        "}\n",
        "\n",
        "df_sumary_dict = pd.DataFrame(sumary_dict)\n",
        "conts_2 = list(df_sumary_dict['Continent'].unique())\n",
        "conts_2.append('All Contries')\n",
        "\n",
        "app = Dash()\n",
        "\n",
        "\n",
        "\n",
        "app.layout = html.Div(children=[\n",
        "    html.H1(children='World Data'),\n",
        "    dcc.Dropdown(id='Continent_Buttom',options=[{'label':'Area','value':'Area'},{'label':'Densidade','value':'Densidade'}],value = 'Área'),\n",
        "    dcc.Graph(id='World_Graph')\n",
        "])\n",
        "\n",
        "@callback(\n",
        "    Output('World_Graph', 'figure'),\n",
        "    Input('Continent_Buttom', 'value')\n",
        ")\n",
        "def update_output(value):\n",
        "    if value == 'Area':\n",
        "      fig = px.bar(df_sumary_dict,x='Continent',y='Area',color='Continent',title='Área (per km²)')\n",
        "    else:\n",
        "      fig = px.bar(df_sumary_dict,x='Continent',y='Density (per km²)',color = 'Continent', title='Density (per km²)')\n",
        "    return fig\n",
        "if __name__ == '__main__':\n",
        "    app.run(debug=True)\n",
        "\n",
        "\n"
      ]
    }
  ],
  "metadata": {
    "colab": {
      "name": "Olá, este é o Colaboratory",
      "provenance": [],
      "include_colab_link": true
    },
    "kernelspec": {
      "display_name": "Python 3",
      "name": "python3"
    }
  },
  "nbformat": 4,
  "nbformat_minor": 0
}